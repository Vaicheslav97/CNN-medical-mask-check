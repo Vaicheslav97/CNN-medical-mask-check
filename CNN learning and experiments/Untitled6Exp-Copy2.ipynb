{
 "cells": [
  {
   "cell_type": "code",
   "execution_count": 22,
   "metadata": {},
   "outputs": [],
   "source": [
    "from struct import unpack\n",
    "import os\n",
    "import shutil\n",
    "path = 'MAFDataset/images/'\n",
    "path2 = 'MAFDataset/images2/'\n",
    "path3 = 'MAFDataset/images3/'\n",
    "os.mkdir(path3)\n",
    "marker_mapping = {\n",
    "    0xffd8: \"Start of Image\",\n",
    "    0xffe0: \"Application Default Header\",\n",
    "    0xffdb: \"Quantization Table\",\n",
    "    0xffc0: \"Start of Frame\",\n",
    "    0xffc4: \"Define Huffman Table\",\n",
    "    0xffda: \"Start of Scan\",\n",
    "    0xffd9: \"End of Image\"\n",
    "}\n",
    "\n",
    "files = os.listdir(path)\n",
    "for file in files:\n",
    "    try:\n",
    "        with open(path+file, 'rb') as f:\n",
    "            data = f.read()\n",
    "           \n",
    "        while(True):\n",
    "            marker, = unpack(\">H\", data[0:2])\n",
    "            # print(marker_mapping.get(marker))\n",
    "            if marker == 0xffd8:\n",
    "                data = data[2:]\n",
    "            elif marker == 0xffd9:\n",
    "                break\n",
    "            elif marker == 0xffda:\n",
    "                data = data[-2:]\n",
    "            else:\n",
    "                lenchunk, = unpack(\">H\", data[2:4])\n",
    "                data = data[2+lenchunk:]            \n",
    "            if len(data)==0:\n",
    "                break\n",
    "        #shutil.copyfile(path+file, path2+file)       \n",
    "    except:\n",
    "        f.close()\n",
    "        #shutil.copyfile(path+file, path3+file) \n",
    "        os.remove(path+file)"
   ]
  },
  {
   "cell_type": "code",
   "execution_count": 34,
   "metadata": {},
   "outputs": [
    {
     "ename": "KeyboardInterrupt",
     "evalue": "",
     "output_type": "error",
     "traceback": [
      "\u001b[1;31m---------------------------------------------------------------------------\u001b[0m",
      "\u001b[1;31mKeyboardInterrupt\u001b[0m                         Traceback (most recent call last)",
      "\u001b[1;32m<ipython-input-34-5b9562fa41dd>\u001b[0m in \u001b[0;36m<module>\u001b[1;34m\u001b[0m\n\u001b[0;32m     20\u001b[0m         \u001b[0mshutil\u001b[0m\u001b[1;33m.\u001b[0m\u001b[0mcopyfile\u001b[0m\u001b[1;33m(\u001b[0m\u001b[0mpath\u001b[0m\u001b[1;33m+\u001b[0m\u001b[0mfile\u001b[0m\u001b[1;33m,\u001b[0m \u001b[0mpathСW\u001b[0m\u001b[1;33m+\u001b[0m\u001b[1;34m\"Mask/\"\u001b[0m\u001b[1;33m+\u001b[0m\u001b[0mfile\u001b[0m\u001b[1;33m)\u001b[0m\u001b[1;33m\u001b[0m\u001b[1;33m\u001b[0m\u001b[0m\n\u001b[0;32m     21\u001b[0m     \u001b[1;32melse\u001b[0m\u001b[1;33m:\u001b[0m\u001b[1;33m\u001b[0m\u001b[1;33m\u001b[0m\u001b[0m\n\u001b[1;32m---> 22\u001b[1;33m         \u001b[0mshutil\u001b[0m\u001b[1;33m.\u001b[0m\u001b[0mcopyfile\u001b[0m\u001b[1;33m(\u001b[0m\u001b[0mpath\u001b[0m\u001b[1;33m+\u001b[0m\u001b[0mfile\u001b[0m\u001b[1;33m,\u001b[0m \u001b[0mpathСW\u001b[0m\u001b[1;33m+\u001b[0m\u001b[1;34m\"noMask/\"\u001b[0m\u001b[1;33m+\u001b[0m\u001b[0mfile\u001b[0m\u001b[1;33m)\u001b[0m\u001b[1;33m\u001b[0m\u001b[1;33m\u001b[0m\u001b[0m\n\u001b[0m\u001b[0;32m     23\u001b[0m     \u001b[0mi\u001b[0m\u001b[1;33m+=\u001b[0m\u001b[1;36m1\u001b[0m\u001b[1;33m\u001b[0m\u001b[1;33m\u001b[0m\u001b[0m\n",
      "\u001b[1;32mG:\\Anaconda3\\lib\\shutil.py\u001b[0m in \u001b[0;36mcopyfile\u001b[1;34m(src, dst, follow_symlinks)\u001b[0m\n\u001b[0;32m    278\u001b[0m             \u001b[1;32melif\u001b[0m \u001b[0m_WINDOWS\u001b[0m \u001b[1;32mand\u001b[0m \u001b[0mfile_size\u001b[0m \u001b[1;33m>\u001b[0m \u001b[1;36m0\u001b[0m\u001b[1;33m:\u001b[0m\u001b[1;33m\u001b[0m\u001b[1;33m\u001b[0m\u001b[0m\n\u001b[0;32m    279\u001b[0m                 \u001b[0m_copyfileobj_readinto\u001b[0m\u001b[1;33m(\u001b[0m\u001b[0mfsrc\u001b[0m\u001b[1;33m,\u001b[0m \u001b[0mfdst\u001b[0m\u001b[1;33m,\u001b[0m \u001b[0mmin\u001b[0m\u001b[1;33m(\u001b[0m\u001b[0mfile_size\u001b[0m\u001b[1;33m,\u001b[0m \u001b[0mCOPY_BUFSIZE\u001b[0m\u001b[1;33m)\u001b[0m\u001b[1;33m)\u001b[0m\u001b[1;33m\u001b[0m\u001b[1;33m\u001b[0m\u001b[0m\n\u001b[1;32m--> 280\u001b[1;33m                 \u001b[1;32mreturn\u001b[0m \u001b[0mdst\u001b[0m\u001b[1;33m\u001b[0m\u001b[1;33m\u001b[0m\u001b[0m\n\u001b[0m\u001b[0;32m    281\u001b[0m \u001b[1;33m\u001b[0m\u001b[0m\n\u001b[0;32m    282\u001b[0m             \u001b[0mcopyfileobj\u001b[0m\u001b[1;33m(\u001b[0m\u001b[0mfsrc\u001b[0m\u001b[1;33m,\u001b[0m \u001b[0mfdst\u001b[0m\u001b[1;33m)\u001b[0m\u001b[1;33m\u001b[0m\u001b[1;33m\u001b[0m\u001b[0m\n",
      "\u001b[1;31mKeyboardInterrupt\u001b[0m: "
     ]
    }
   ],
   "source": [
    "import os\n",
    "import numpy as np\n",
    "import cv2\n",
    "from array import *\n",
    "import shutil\n",
    "os.mkdir(\"MAFDataset/Mask/\")\n",
    "os.mkdir(\"MAFDataset/noMask/\")\n",
    "\n",
    "\n",
    "path = 'MAFDataset/images/'\n",
    "files = os.listdir(path)\n",
    "pathСW = 'MAFDataset/'\n",
    "\n",
    "l=len(files)\n",
    "\n",
    "i =0\n",
    "for file in files:\n",
    "    file_xml = int(file.split(\"_\")[1])\n",
    "    if file_xml<3:\n",
    "        shutil.copyfile(path+file, pathСW+\"Mask/\"+file)\n",
    "    else:\n",
    "        shutil.copyfile(path+file, pathСW+\"noMask/\"+file)\n",
    "    i+=1\n"
   ]
  },
  {
   "cell_type": "code",
   "execution_count": 1,
   "metadata": {},
   "outputs": [
    {
     "name": "stdout",
     "output_type": "stream",
     "text": [
      "Found 11235 files belonging to 2 classes.\n",
      "Using 8988 files for training.\n",
      "Found 11235 files belonging to 2 classes.\n",
      "Using 2247 files for validation.\n"
     ]
    }
   ],
   "source": [
    "import tensorflow as tf\n",
    "from tensorflow import keras\n",
    "\n",
    "batch_size = 32\n",
    "img_height = 64\n",
    "img_width = 64\n",
    "data_dir = 'MAFDataset/im/'\n",
    "\n",
    "train_ds = tf.keras.preprocessing.image_dataset_from_directory(\n",
    "  data_dir,\n",
    "  label_mode = 'binary',\n",
    "  validation_split=0.2,\n",
    "  subset=\"training\",\n",
    "  seed=123,\n",
    "  image_size=(img_height, img_width),\n",
    "  batch_size=batch_size)\n",
    "\n",
    "val_ds = tf.keras.preprocessing.image_dataset_from_directory(\n",
    "  data_dir,\n",
    "  label_mode = 'binary',\n",
    "  validation_split=0.2,\n",
    "  subset=\"validation\",\n",
    "  seed=123,\n",
    "  image_size=(img_height, img_width),\n",
    "  batch_size=batch_size)\n",
    "\n",
    "\n"
   ]
  },
  {
   "cell_type": "code",
   "execution_count": 2,
   "metadata": {},
   "outputs": [],
   "source": [
    "def process(image,label):\n",
    "    image = tf.cast(image/255. ,tf.float32)\n",
    "    image =tf.image.rgb_to_hsv(image, name=None)\n",
    "    return image,label\n",
    "\n",
    "train_ds = train_ds.map(process)\n",
    "val_ds = val_ds.map(process)"
   ]
  },
  {
   "cell_type": "code",
   "execution_count": 19,
   "metadata": {},
   "outputs": [
    {
     "name": "stdout",
     "output_type": "stream",
     "text": [
      "tf.Tensor(\n",
      "[[[0.19444445 0.03786985 0.62132305]\n",
      "  [0.2857143  0.04318493 0.63566107]\n",
      "  [0.26666668 0.06199748 0.63253677]\n",
      "  ...\n",
      "  [0.6197157  0.21774277 0.8775699 ]\n",
      "  [0.61712384 0.23174286 0.80498815]\n",
      "  [0.61773473 0.41215032 0.49068627]]\n",
      "\n",
      " [[0.14169948 0.0377424  0.61773896]\n",
      "  [0.18585467 0.03635227 0.6295628 ]\n",
      "  [0.22222222 0.05444749 0.64822304]\n",
      "  ...\n",
      "  [0.62056744 0.23099217 0.7979222 ]\n",
      "  [0.6122449  0.37669513 0.51011246]\n",
      "  [0.6057371  0.39877728 0.5115225 ]]\n",
      "\n",
      " [[0.14169948 0.04131595 0.5643088 ]\n",
      "  [0.18585429 0.03845156 0.5951899 ]\n",
      "  [0.21428572 0.08656587 0.6342218 ]\n",
      "  ...\n",
      "  [0.6380798  0.3651049  0.46672723]\n",
      "  [0.6296297  0.38683683 0.45618874]\n",
      "  [0.6123189  0.2612824  0.69041055]]\n",
      "\n",
      " ...\n",
      "\n",
      " [[0.62979233 0.26907194 0.61656207]\n",
      "  [0.6228093  0.36329556 0.51308256]\n",
      "  [0.6354167  0.21278974 0.58973795]\n",
      "  ...\n",
      "  [0.61904764 0.29872358 0.6432598 ]\n",
      "  [0.6145834  0.2894852  0.6502415 ]\n",
      "  [0.6296297  0.315066   0.5601067 ]]\n",
      "\n",
      " [[0.6372602  0.29211023 0.63726854]\n",
      "  [0.6375951  0.47519484 0.4180432 ]\n",
      "  [0.6342593  0.22635739 0.62368834]\n",
      "  ...\n",
      "  [0.6216803  0.29416695 0.65406924]\n",
      "  [0.61904764 0.31647775 0.60717344]\n",
      "  [0.6215278  0.35561538 0.52932274]]\n",
      "\n",
      " [[0.6265715  0.30823466 0.637922  ]\n",
      "  [0.6224144  0.4801071  0.42059398]\n",
      "  [0.63095236 0.26091975 0.6312512 ]\n",
      "  ...\n",
      "  [0.6393008  0.27171972 0.6310793 ]\n",
      "  [0.6205674  0.30408123 0.6061332 ]\n",
      "  [0.62056744 0.2765977  0.6663603 ]]], shape=(64, 64, 3), dtype=float32)\n"
     ]
    }
   ],
   "source": [
    "image_batch, labels_batch = next(iter(train_ds))\n",
    "first_image = image_batch[0]\n",
    "print(first_image)"
   ]
  },
  {
   "cell_type": "code",
   "execution_count": 3,
   "metadata": {},
   "outputs": [
    {
     "name": "stdout",
     "output_type": "stream",
     "text": [
      "Model: \"sequential\"\n",
      "_________________________________________________________________\n",
      "Layer (type)                 Output Shape              Param #   \n",
      "=================================================================\n",
      "conv2d (Conv2D)              (None, 64, 64, 16)        448       \n",
      "_________________________________________________________________\n",
      "max_pooling2d (MaxPooling2D) (None, 32, 32, 16)        0         \n",
      "_________________________________________________________________\n",
      "conv2d_1 (Conv2D)            (None, 32, 32, 32)        4640      \n",
      "_________________________________________________________________\n",
      "max_pooling2d_1 (MaxPooling2 (None, 16, 16, 32)        0         \n",
      "_________________________________________________________________\n",
      "conv2d_2 (Conv2D)            (None, 16, 16, 64)        18496     \n",
      "_________________________________________________________________\n",
      "max_pooling2d_2 (MaxPooling2 (None, 8, 8, 64)          0         \n",
      "_________________________________________________________________\n",
      "flatten (Flatten)            (None, 4096)              0         \n",
      "_________________________________________________________________\n",
      "dense (Dense)                (None, 128)               524416    \n",
      "_________________________________________________________________\n",
      "dense_1 (Dense)              (None, 1)                 129       \n",
      "=================================================================\n",
      "Total params: 548,129\n",
      "Trainable params: 548,129\n",
      "Non-trainable params: 0\n",
      "_________________________________________________________________\n"
     ]
    }
   ],
   "source": [
    "import tensorflow as tf\n",
    "from tensorflow.keras import datasets, layers, models\n",
    "from tensorflow.python.keras.layers import Activation, Dropout, Flatten, Dense\n",
    "import matplotlib.pyplot as plt\n",
    "\n",
    "\n",
    "\n",
    "model = tf.keras.Sequential([\n",
    "  #layers.Rescaling(1./255, input_shape=(img_height, img_width, 3)),\n",
    "  #layers.Conv2D(16, 3, padding='same', activation='relu'),\n",
    "  layers.Conv2D(16, 3, padding='same', activation='relu', input_shape=(img_height, img_width, 3)),  \n",
    "  layers.MaxPooling2D(),\n",
    "  layers.Conv2D(32, 3, padding='same', activation='relu'),\n",
    "  layers.MaxPooling2D(),\n",
    "  layers.Conv2D(64, 3, padding='same', activation='relu'),\n",
    "  layers.MaxPooling2D(),\n",
    "  layers.Flatten(),\n",
    "  layers.Dense(128, activation='relu'),\n",
    "  layers.Dense(1, activation = \"sigmoid\")\n",
    "])\n",
    "\n",
    "model.summary()\n"
   ]
  },
  {
   "cell_type": "code",
   "execution_count": 4,
   "metadata": {
    "scrolled": true
   },
   "outputs": [
    {
     "name": "stdout",
     "output_type": "stream",
     "text": [
      "Epoch 1/24\n",
      "281/281 [==============================] - 127s 428ms/step - loss: 0.3190 - accuracy: 0.8536 - val_loss: 0.1747 - val_accuracy: 0.9341\n",
      "Epoch 2/24\n",
      "281/281 [==============================] - 48s 168ms/step - loss: 0.1406 - accuracy: 0.9472 - val_loss: 0.1841 - val_accuracy: 0.9306\n",
      "Epoch 3/24\n",
      "281/281 [==============================] - 48s 169ms/step - loss: 0.1101 - accuracy: 0.9585 - val_loss: 0.1121 - val_accuracy: 0.9622\n",
      "Epoch 4/24\n",
      "281/281 [==============================] - 41s 145ms/step - loss: 0.0762 - accuracy: 0.9710 - val_loss: 0.1056 - val_accuracy: 0.9635\n",
      "Epoch 5/24\n",
      "281/281 [==============================] - 36s 126ms/step - loss: 0.0619 - accuracy: 0.9755 - val_loss: 0.0882 - val_accuracy: 0.9684\n",
      "Epoch 6/24\n",
      "281/281 [==============================] - 36s 126ms/step - loss: 0.0457 - accuracy: 0.9823 - val_loss: 0.0874 - val_accuracy: 0.9693\n",
      "Epoch 7/24\n",
      "281/281 [==============================] - 36s 127ms/step - loss: 0.0331 - accuracy: 0.9878 - val_loss: 0.0848 - val_accuracy: 0.9746\n",
      "Epoch 8/24\n",
      "281/281 [==============================] - 36s 125ms/step - loss: 0.0273 - accuracy: 0.9904 - val_loss: 0.0887 - val_accuracy: 0.9733\n",
      "Epoch 9/24\n",
      "281/281 [==============================] - 36s 128ms/step - loss: 0.0262 - accuracy: 0.9897 - val_loss: 0.0732 - val_accuracy: 0.9769\n",
      "Epoch 10/24\n",
      "281/281 [==============================] - 36s 126ms/step - loss: 0.0218 - accuracy: 0.9917 - val_loss: 0.1175 - val_accuracy: 0.9671\n",
      "Epoch 11/24\n",
      "281/281 [==============================] - 36s 125ms/step - loss: 0.0159 - accuracy: 0.9945 - val_loss: 0.0959 - val_accuracy: 0.9755\n",
      "Epoch 12/24\n",
      "281/281 [==============================] - 36s 125ms/step - loss: 0.0209 - accuracy: 0.9928 - val_loss: 0.1018 - val_accuracy: 0.9733\n",
      "Epoch 13/24\n",
      "281/281 [==============================] - 36s 127ms/step - loss: 0.0087 - accuracy: 0.9973 - val_loss: 0.0920 - val_accuracy: 0.9755\n",
      "Epoch 14/24\n",
      "281/281 [==============================] - 36s 125ms/step - loss: 0.0068 - accuracy: 0.9980 - val_loss: 0.1227 - val_accuracy: 0.9688\n",
      "Epoch 15/24\n",
      "281/281 [==============================] - 36s 126ms/step - loss: 0.0239 - accuracy: 0.9919 - val_loss: 0.0902 - val_accuracy: 0.9746\n",
      "Epoch 16/24\n",
      "281/281 [==============================] - 36s 127ms/step - loss: 0.0069 - accuracy: 0.9977 - val_loss: 0.1180 - val_accuracy: 0.9729\n",
      "Epoch 17/24\n",
      "281/281 [==============================] - 36s 125ms/step - loss: 0.0094 - accuracy: 0.9966 - val_loss: 0.0982 - val_accuracy: 0.9746\n",
      "Epoch 18/24\n",
      "281/281 [==============================] - 36s 125ms/step - loss: 0.0093 - accuracy: 0.9962 - val_loss: 0.1073 - val_accuracy: 0.9751\n",
      "Epoch 19/24\n",
      "281/281 [==============================] - 36s 125ms/step - loss: 0.0130 - accuracy: 0.9960 - val_loss: 0.0889 - val_accuracy: 0.9773\n",
      "Epoch 20/24\n",
      "281/281 [==============================] - 36s 126ms/step - loss: 0.0048 - accuracy: 0.9986 - val_loss: 0.0944 - val_accuracy: 0.9777\n",
      "Epoch 21/24\n",
      "281/281 [==============================] - 36s 125ms/step - loss: 0.0085 - accuracy: 0.9969 - val_loss: 0.0950 - val_accuracy: 0.9755\n",
      "Epoch 22/24\n",
      "281/281 [==============================] - 36s 125ms/step - loss: 0.0072 - accuracy: 0.9974 - val_loss: 0.1287 - val_accuracy: 0.9715\n",
      "Epoch 23/24\n",
      "281/281 [==============================] - 36s 126ms/step - loss: 0.0063 - accuracy: 0.9978 - val_loss: 0.1098 - val_accuracy: 0.9755\n",
      "Epoch 24/24\n",
      "281/281 [==============================] - 36s 125ms/step - loss: 0.0011 - accuracy: 0.9998 - val_loss: 0.1312 - val_accuracy: 0.9755\n"
     ]
    }
   ],
   "source": [
    "epoc=24\n",
    "model.compile(optimizer='adam',loss = \"binary_crossentropy\", metrics = [\"accuracy\"])\n",
    "history = model.fit( train_ds, validation_data=val_ds, epochs=epoc)\n"
   ]
  },
  {
   "cell_type": "code",
   "execution_count": 8,
   "metadata": {},
   "outputs": [
    {
     "name": "stdout",
     "output_type": "stream",
     "text": [
      "Epoch 1/3\n",
      "281/281 [==============================] - 30s 104ms/step - loss: 0.0357 - accuracy: 0.9869 - val_loss: 0.0754 - val_accuracy: 0.9773\n",
      "Epoch 2/3\n",
      "281/281 [==============================] - 29s 102ms/step - loss: 0.0247 - accuracy: 0.9912 - val_loss: 0.0790 - val_accuracy: 0.9795\n",
      "Epoch 3/3\n",
      "281/281 [==============================] - 29s 103ms/step - loss: 0.0188 - accuracy: 0.9932 - val_loss: 0.0962 - val_accuracy: 0.9769\n"
     ]
    }
   ],
   "source": [
    "epochs=3\n",
    "history = model.fit( train_ds, validation_data=val_ds, epochs=3)"
   ]
  },
  {
   "cell_type": "code",
   "execution_count": 5,
   "metadata": {},
   "outputs": [
    {
     "data": {
      "image/png": "[encoded data removed]",
      "text/plain": [
       "<Figure size 576x576 with 2 Axes>"
      ]
     },
     "metadata": {
      "needs_background": "light"
     },
     "output_type": "display_data"
    }
   ],
   "source": [
    "\n",
    "acc = history.history['accuracy']\n",
    "val_acc = history.history['val_accuracy']\n",
    "\n",
    "loss = history.history['loss']\n",
    "val_loss = history.history['val_loss']\n",
    "\n",
    "epochs_range = range(epoc)\n",
    "\n",
    "plt.figure(figsize=(8, 8))\n",
    "plt.subplot(1, 2, 1)\n",
    "plt.plot(epochs_range, acc, label='Training Accuracy')\n",
    "plt.plot(epochs_range, val_acc, label='Validation Accuracy')\n",
    "plt.legend(loc='lower right')\n",
    "plt.title('Training and Validation Accuracy')\n",
    "\n",
    "plt.subplot(1, 2, 2)\n",
    "plt.plot(epochs_range, loss, label='Training Loss')\n",
    "plt.plot(epochs_range, val_loss, label='Validation Loss')\n",
    "plt.legend(loc='upper right')\n",
    "plt.title('Training and Validation Loss')\n",
    "plt.show()\n"
   ]
  },
  {
   "cell_type": "code",
   "execution_count": 26,
   "metadata": {},
   "outputs": [],
   "source": [
    "data_path = 'MAFDataset/t4.jpg'\n",
    "img = tf.keras.utils.load_img(\n",
    "    data_path, target_size=(img_height, img_width)\n",
    ")\n",
    "img_array = tf.keras.utils.img_to_array(img)\n",
    "img_array = tf.expand_dims(img_array, 0) # Create a batch\n",
    "\n",
    "img_array/=255\n",
    "img_array = tf.image.rgb_to_hsv(img_array, name=None)\n",
    "\n",
    "\n",
    "#img_array"
   ]
  },
  {
   "cell_type": "code",
   "execution_count": 27,
   "metadata": {},
   "outputs": [
    {
     "name": "stdout",
     "output_type": "stream",
     "text": [
      "mask\n",
      "[4.788862e-13]\n"
     ]
    }
   ],
   "source": [
    "predictions = model.predict(img_array)\n",
    "score = predictions[0]\n",
    "if(score>0.3):\n",
    "    print(\"nomask\")\n",
    "else:\n",
    "    print(\"mask\")\n",
    "\n",
    "print(score)"
   ]
  },
  {
   "cell_type": "code",
   "execution_count": 8,
   "metadata": {},
   "outputs": [],
   "source": [
    "model.save(\"my_modelHVS.h5\", include_optimizer=False)"
   ]
  },
  {
   "cell_type": "code",
   "execution_count": 9,
   "metadata": {},
   "outputs": [
    {
     "name": "stdout",
     "output_type": "stream",
     "text": [
      "WARNING:tensorflow:No training configuration found in the save file, so the model was *not* compiled. Compile it manually.\n",
      "Model: \"sequential\"\n",
      "_________________________________________________________________\n",
      "Layer (type)                 Output Shape              Param #   \n",
      "=================================================================\n",
      "conv2d (Conv2D)              (None, 64, 64, 16)        448       \n",
      "_________________________________________________________________\n",
      "max_pooling2d (MaxPooling2D) (None, 32, 32, 16)        0         \n",
      "_________________________________________________________________\n",
      "conv2d_1 (Conv2D)            (None, 32, 32, 32)        4640      \n",
      "_________________________________________________________________\n",
      "max_pooling2d_1 (MaxPooling2 (None, 16, 16, 32)        0         \n",
      "_________________________________________________________________\n",
      "conv2d_2 (Conv2D)            (None, 16, 16, 64)        18496     \n",
      "_________________________________________________________________\n",
      "max_pooling2d_2 (MaxPooling2 (None, 8, 8, 64)          0         \n",
      "_________________________________________________________________\n",
      "flatten (Flatten)            (None, 4096)              0         \n",
      "_________________________________________________________________\n",
      "dense (Dense)                (None, 128)               524416    \n",
      "_________________________________________________________________\n",
      "dense_1 (Dense)              (None, 1)                 129       \n",
      "=================================================================\n",
      "Total params: 548,129\n",
      "Trainable params: 548,129\n",
      "Non-trainable params: 0\n",
      "_________________________________________________________________\n"
     ]
    }
   ],
   "source": [
    "#import tensorflow as tf\n",
    "from tensorflow.keras import models,utils\n",
    "from tensorflow import expand_dims\n",
    "\n",
    "batch_size = 32\n",
    "img_height = 64\n",
    "img_width = 64\n",
    "\n",
    "new_model = models.load_model('my_modelHVS.h5')\n",
    "\n",
    "# Check its architecture\n",
    "new_model.summary()\n"
   ]
  },
  {
   "cell_type": "code",
   "execution_count": 17,
   "metadata": {},
   "outputs": [
    {
     "name": "stdout",
     "output_type": "stream",
     "text": [
      "mask\n",
      "[4.788862e-13]\n"
     ]
    }
   ],
   "source": [
    "data_path = 'MAFDataset/t4.jpg'\n",
    "img = utils.load_img(\n",
    "    data_path, target_size=(img_height, img_width)\n",
    ")\n",
    "img_array = utils.img_to_array(img)\n",
    "img_array = expand_dims(img_array, 0) # Create a batch\n",
    "\n",
    "img_array/=255\n",
    "img_array = tf.image.rgb_to_hsv(img_array, name=None)\n",
    "\n",
    "predictions = new_model.predict(img_array)\n",
    "score = predictions[0]\n",
    "if(score>0.3):\n",
    "    print(\"nomask\")\n",
    "else:\n",
    "    print(\"mask\")\n",
    "\n",
    "print(score)\n"
   ]
  },
  {
   "cell_type": "code",
   "execution_count": 18,
   "metadata": {},
   "outputs": [],
   "source": [
    "from struct import unpack\n",
    "import os\n",
    "import shutil\n",
    "path = 'Test/'\n",
    "path2 = 'TestoutHSV/'\n",
    "\n",
    "os.mkdir(path2)\n",
    "\n",
    "\n",
    "files = os.listdir(path)\n",
    "for file in files:\n",
    "   # try:\n",
    "        img = utils.load_img(\n",
    "        path+file, target_size=(img_height, img_width)\n",
    "        )\n",
    "        img_array = utils.img_to_array(img)\n",
    "        img_array = expand_dims(img_array, 0) # Create a batch\n",
    "        img_array/=255\n",
    "        img_array = tf.image.rgb_to_hsv(img_array, name=None)\n",
    "\n",
    "        predictions = new_model.predict(img_array)\n",
    "        score = predictions[0]\n",
    "        \n",
    "        file_xml = int(file.split(\"_\")[1])\n",
    "        #if (file_xml<3) and (score>0.3):\n",
    "        #    shutil.copyfile(path+file, path2+file)\n",
    "            \n",
    "        if (file_xml<3) == (score>0.3):\n",
    "            shutil.copyfile(path+file, path2+file)\n",
    "          \n",
    "        \n",
    "   # except:\n",
    "        #f.close()\n",
    "        #shutil.copyfile(path+file, path3+file) \n",
    "        #os.remove(path+file)"
   ]
  },
  {
   "cell_type": "code",
   "execution_count": null,
   "metadata": {},
   "outputs": [],
   "source": []
  }
 ],
 "metadata": {
  "kernelspec": {
   "display_name": "Python 3",
   "language": "python",
   "name": "python3"
  },
  "language_info": {
   "codemirror_mode": {
    "name": "ipython",
    "version": 3
   },
   "file_extension": ".py",
   "mimetype": "text/x-python",
   "name": "python",
   "nbconvert_exporter": "python",
   "pygments_lexer": "ipython3",
   "version": "3.8.3"
  }
 },
 "nbformat": 4,
 "nbformat_minor": 4
}
