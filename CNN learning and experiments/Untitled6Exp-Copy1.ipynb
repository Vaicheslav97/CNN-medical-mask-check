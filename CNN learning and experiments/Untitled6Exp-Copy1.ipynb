{
 "cells": [
  {
   "cell_type": "code",
   "execution_count": 22,
   "metadata": {},
   "outputs": [],
   "source": [
    "from struct import unpack\n",
    "import os\n",
    "import shutil\n",
    "path = 'MAFDataset/images/'\n",
    "path2 = 'MAFDataset/images2/'\n",
    "path3 = 'MAFDataset/images3/'\n",
    "os.mkdir(path3)\n",
    "marker_mapping = {\n",
    "    0xffd8: \"Start of Image\",\n",
    "    0xffe0: \"Application Default Header\",\n",
    "    0xffdb: \"Quantization Table\",\n",
    "    0xffc0: \"Start of Frame\",\n",
    "    0xffc4: \"Define Huffman Table\",\n",
    "    0xffda: \"Start of Scan\",\n",
    "    0xffd9: \"End of Image\"\n",
    "}\n",
    "\n",
    "files = os.listdir(path)\n",
    "for file in files:\n",
    "    try:\n",
    "        with open(path+file, 'rb') as f:\n",
    "            data = f.read()\n",
    "           \n",
    "        while(True):\n",
    "            marker, = unpack(\">H\", data[0:2])\n",
    "            # print(marker_mapping.get(marker))\n",
    "            if marker == 0xffd8:\n",
    "                data = data[2:]\n",
    "            elif marker == 0xffd9:\n",
    "                break\n",
    "            elif marker == 0xffda:\n",
    "                data = data[-2:]\n",
    "            else:\n",
    "                lenchunk, = unpack(\">H\", data[2:4])\n",
    "                data = data[2+lenchunk:]            \n",
    "            if len(data)==0:\n",
    "                break\n",
    "        #shutil.copyfile(path+file, path2+file)       \n",
    "    except:\n",
    "        f.close()\n",
    "        #shutil.copyfile(path+file, path3+file) \n",
    "        os.remove(path+file)"
   ]
  },
  {
   "cell_type": "code",
   "execution_count": 34,
   "metadata": {},
   "outputs": [
    {
     "ename": "KeyboardInterrupt",
     "evalue": "",
     "output_type": "error",
     "traceback": [
      "\u001b[1;31m---------------------------------------------------------------------------\u001b[0m",
      "\u001b[1;31mKeyboardInterrupt\u001b[0m                         Traceback (most recent call last)",
      "\u001b[1;32m<ipython-input-34-5b9562fa41dd>\u001b[0m in \u001b[0;36m<module>\u001b[1;34m\u001b[0m\n\u001b[0;32m     20\u001b[0m         \u001b[0mshutil\u001b[0m\u001b[1;33m.\u001b[0m\u001b[0mcopyfile\u001b[0m\u001b[1;33m(\u001b[0m\u001b[0mpath\u001b[0m\u001b[1;33m+\u001b[0m\u001b[0mfile\u001b[0m\u001b[1;33m,\u001b[0m \u001b[0mpathСW\u001b[0m\u001b[1;33m+\u001b[0m\u001b[1;34m\"Mask/\"\u001b[0m\u001b[1;33m+\u001b[0m\u001b[0mfile\u001b[0m\u001b[1;33m)\u001b[0m\u001b[1;33m\u001b[0m\u001b[1;33m\u001b[0m\u001b[0m\n\u001b[0;32m     21\u001b[0m     \u001b[1;32melse\u001b[0m\u001b[1;33m:\u001b[0m\u001b[1;33m\u001b[0m\u001b[1;33m\u001b[0m\u001b[0m\n\u001b[1;32m---> 22\u001b[1;33m         \u001b[0mshutil\u001b[0m\u001b[1;33m.\u001b[0m\u001b[0mcopyfile\u001b[0m\u001b[1;33m(\u001b[0m\u001b[0mpath\u001b[0m\u001b[1;33m+\u001b[0m\u001b[0mfile\u001b[0m\u001b[1;33m,\u001b[0m \u001b[0mpathСW\u001b[0m\u001b[1;33m+\u001b[0m\u001b[1;34m\"noMask/\"\u001b[0m\u001b[1;33m+\u001b[0m\u001b[0mfile\u001b[0m\u001b[1;33m)\u001b[0m\u001b[1;33m\u001b[0m\u001b[1;33m\u001b[0m\u001b[0m\n\u001b[0m\u001b[0;32m     23\u001b[0m     \u001b[0mi\u001b[0m\u001b[1;33m+=\u001b[0m\u001b[1;36m1\u001b[0m\u001b[1;33m\u001b[0m\u001b[1;33m\u001b[0m\u001b[0m\n",
      "\u001b[1;32mG:\\Anaconda3\\lib\\shutil.py\u001b[0m in \u001b[0;36mcopyfile\u001b[1;34m(src, dst, follow_symlinks)\u001b[0m\n\u001b[0;32m    278\u001b[0m             \u001b[1;32melif\u001b[0m \u001b[0m_WINDOWS\u001b[0m \u001b[1;32mand\u001b[0m \u001b[0mfile_size\u001b[0m \u001b[1;33m>\u001b[0m \u001b[1;36m0\u001b[0m\u001b[1;33m:\u001b[0m\u001b[1;33m\u001b[0m\u001b[1;33m\u001b[0m\u001b[0m\n\u001b[0;32m    279\u001b[0m                 \u001b[0m_copyfileobj_readinto\u001b[0m\u001b[1;33m(\u001b[0m\u001b[0mfsrc\u001b[0m\u001b[1;33m,\u001b[0m \u001b[0mfdst\u001b[0m\u001b[1;33m,\u001b[0m \u001b[0mmin\u001b[0m\u001b[1;33m(\u001b[0m\u001b[0mfile_size\u001b[0m\u001b[1;33m,\u001b[0m \u001b[0mCOPY_BUFSIZE\u001b[0m\u001b[1;33m)\u001b[0m\u001b[1;33m)\u001b[0m\u001b[1;33m\u001b[0m\u001b[1;33m\u001b[0m\u001b[0m\n\u001b[1;32m--> 280\u001b[1;33m                 \u001b[1;32mreturn\u001b[0m \u001b[0mdst\u001b[0m\u001b[1;33m\u001b[0m\u001b[1;33m\u001b[0m\u001b[0m\n\u001b[0m\u001b[0;32m    281\u001b[0m \u001b[1;33m\u001b[0m\u001b[0m\n\u001b[0;32m    282\u001b[0m             \u001b[0mcopyfileobj\u001b[0m\u001b[1;33m(\u001b[0m\u001b[0mfsrc\u001b[0m\u001b[1;33m,\u001b[0m \u001b[0mfdst\u001b[0m\u001b[1;33m)\u001b[0m\u001b[1;33m\u001b[0m\u001b[1;33m\u001b[0m\u001b[0m\n",
      "\u001b[1;31mKeyboardInterrupt\u001b[0m: "
     ]
    }
   ],
   "source": [
    "import os\n",
    "import numpy as np\n",
    "import cv2\n",
    "from array import *\n",
    "import shutil\n",
    "os.mkdir(\"MAFDataset/Mask/\")\n",
    "os.mkdir(\"MAFDataset/noMask/\")\n",
    "\n",
    "\n",
    "path = 'MAFDataset/images/'\n",
    "files = os.listdir(path)\n",
    "pathСW = 'MAFDataset/'\n",
    "\n",
    "l=len(files)\n",
    "\n",
    "i =0\n",
    "for file in files:\n",
    "    file_xml = int(file.split(\"_\")[1])\n",
    "    if file_xml<3:\n",
    "        shutil.copyfile(path+file, pathСW+\"Mask/\"+file)\n",
    "    else:\n",
    "        shutil.copyfile(path+file, pathСW+\"noMask/\"+file)\n",
    "    i+=1\n"
   ]
  },
  {
   "cell_type": "code",
   "execution_count": 2,
   "metadata": {},
   "outputs": [
    {
     "name": "stdout",
     "output_type": "stream",
     "text": [
      "Found 11235 files belonging to 2 classes.\n",
      "Using 8988 files for training.\n",
      "Found 11235 files belonging to 2 classes.\n",
      "Using 2247 files for validation.\n"
     ]
    }
   ],
   "source": [
    "import tensorflow as tf\n",
    "from tensorflow import keras\n",
    "\n",
    "batch_size = 32\n",
    "img_height = 128\n",
    "img_width = 128\n",
    "data_dir = 'MAFDataset/im/'\n",
    "\n",
    "train_ds = tf.keras.preprocessing.image_dataset_from_directory(\n",
    "  data_dir,\n",
    "  label_mode = 'binary',\n",
    "  validation_split=0.2,\n",
    "  subset=\"training\",\n",
    "  seed=123,\n",
    "  image_size=(img_height, img_width),\n",
    "  batch_size=batch_size)\n",
    "\n",
    "val_ds = tf.keras.preprocessing.image_dataset_from_directory(\n",
    "  data_dir,\n",
    "  label_mode = 'binary',\n",
    "  validation_split=0.2,\n",
    "  subset=\"validation\",\n",
    "  seed=123,\n",
    "  image_size=(img_height, img_width),\n",
    "  batch_size=batch_size)\n",
    "\n",
    "\n"
   ]
  },
  {
   "cell_type": "code",
   "execution_count": 3,
   "metadata": {},
   "outputs": [],
   "source": [
    "def process(image,label):\n",
    "    image = tf.cast(image/255. ,tf.float32)\n",
    "    return image,label\n",
    "\n",
    "train_ds = train_ds.map(process)\n",
    "val_ds = val_ds.map(process)"
   ]
  },
  {
   "cell_type": "code",
   "execution_count": 12,
   "metadata": {},
   "outputs": [
    {
     "name": "stdout",
     "output_type": "stream",
     "text": [
      "tf.Tensor(\n",
      "[[[0.90588236 0.9019608  0.88235295]\n",
      "  [0.90588236 0.9019608  0.8862745 ]\n",
      "  [0.8980392  0.90588236 0.8862745 ]\n",
      "  ...\n",
      "  [0.8745098  0.8784314  0.85490197]\n",
      "  [0.86740196 0.8685049  0.8463848 ]\n",
      "  [0.87058824 0.8666667  0.84705883]]\n",
      "\n",
      " [[0.90588236 0.9019608  0.88235295]\n",
      "  [0.9098039  0.90588236 0.8901961 ]\n",
      "  [0.9019608  0.9098039  0.8901961 ]\n",
      "  ...\n",
      "  [0.8784314  0.88235295 0.85882354]\n",
      "  [0.87058824 0.8745098  0.85490197]\n",
      "  [0.8666667  0.87058824 0.84705883]]\n",
      "\n",
      " [[0.9137255  0.91764706 0.89411765]\n",
      "  [0.9137255  0.91764706 0.8980392 ]\n",
      "  [0.9137255  0.91764706 0.8980392 ]\n",
      "  ...\n",
      "  [0.8784314  0.88235295 0.8627451 ]\n",
      "  [0.8745098  0.8784314  0.85490197]\n",
      "  [0.8745098  0.8784314  0.85490197]]\n",
      "\n",
      " ...\n",
      "\n",
      " [[0.14338236 0.1747549  0.2492647 ]\n",
      "  [0.1637255  0.1872549  0.24840686]\n",
      "  [0.15003733 0.18122606 0.23275793]\n",
      "  ...\n",
      "  [0.16067517 0.16459674 0.18028301]\n",
      "  [0.18137255 0.20882353 0.24644607]\n",
      "  [0.18309303 0.19485773 0.21446557]]\n",
      "\n",
      " [[0.1499416  0.17739257 0.24013768]\n",
      "  [0.13933824 0.16286765 0.20992647]\n",
      "  [0.14805357 0.17550455 0.2460928 ]\n",
      "  ...\n",
      "  [0.13273495 0.1523428  0.1758722 ]\n",
      "  [0.15392157 0.16568628 0.18529412]\n",
      "  [0.17977941 0.19154412 0.21115196]]\n",
      "\n",
      " [[0.14497645 0.16066273 0.20379998]\n",
      "  [0.16838235 0.18406862 0.23112746]\n",
      "  [0.1721201  0.20349264 0.24662991]\n",
      "  ...\n",
      "  [0.14288737 0.14680894 0.15465207]\n",
      "  [0.14693914 0.15086071 0.17046855]\n",
      "  [0.15631223 0.17592007 0.19160634]]], shape=(32, 32, 3), dtype=float32)\n"
     ]
    }
   ],
   "source": [
    "image_batch, labels_batch = next(iter(train_ds))\n",
    "first_image = image_batch[0]\n",
    "print(first_image)"
   ]
  },
  {
   "cell_type": "code",
   "execution_count": 4,
   "metadata": {},
   "outputs": [
    {
     "name": "stdout",
     "output_type": "stream",
     "text": [
      "Model: \"sequential\"\n",
      "_________________________________________________________________\n",
      "Layer (type)                 Output Shape              Param #   \n",
      "=================================================================\n",
      "conv2d (Conv2D)              (None, 128, 128, 16)      448       \n",
      "_________________________________________________________________\n",
      "max_pooling2d (MaxPooling2D) (None, 64, 64, 16)        0         \n",
      "_________________________________________________________________\n",
      "conv2d_1 (Conv2D)            (None, 64, 64, 32)        4640      \n",
      "_________________________________________________________________\n",
      "max_pooling2d_1 (MaxPooling2 (None, 32, 32, 32)        0         \n",
      "_________________________________________________________________\n",
      "conv2d_2 (Conv2D)            (None, 32, 32, 64)        18496     \n",
      "_________________________________________________________________\n",
      "max_pooling2d_2 (MaxPooling2 (None, 16, 16, 64)        0         \n",
      "_________________________________________________________________\n",
      "flatten (Flatten)            (None, 16384)             0         \n",
      "_________________________________________________________________\n",
      "dense (Dense)                (None, 128)               2097280   \n",
      "_________________________________________________________________\n",
      "dense_1 (Dense)              (None, 1)                 129       \n",
      "=================================================================\n",
      "Total params: 2,120,993\n",
      "Trainable params: 2,120,993\n",
      "Non-trainable params: 0\n",
      "_________________________________________________________________\n"
     ]
    }
   ],
   "source": [
    "import tensorflow as tf\n",
    "from tensorflow.keras import datasets, layers, models\n",
    "from tensorflow.python.keras.layers import Activation, Dropout, Flatten, Dense\n",
    "import matplotlib.pyplot as plt\n",
    "\n",
    "\n",
    "\n",
    "model = tf.keras.Sequential([\n",
    "  #layers.Rescaling(1./255, input_shape=(img_height, img_width, 3)),\n",
    "  #layers.Conv2D(16, 3, padding='same', activation='relu'),\n",
    "  layers.Conv2D(16, 3, padding='same', activation='relu', input_shape=(img_height, img_width, 3)),  \n",
    "  layers.MaxPooling2D(),\n",
    "  layers.Conv2D(32, 3, padding='same', activation='relu'),\n",
    "  layers.MaxPooling2D(),\n",
    "  layers.Conv2D(64, 3, padding='same', activation='relu'),\n",
    "  layers.MaxPooling2D(),\n",
    "  layers.Flatten(),\n",
    "  layers.Dense(128, activation='relu'),\n",
    "  layers.Dense(1, activation = \"sigmoid\")\n",
    "])\n",
    "\n",
    "model.summary()\n"
   ]
  },
  {
   "cell_type": "code",
   "execution_count": 5,
   "metadata": {
    "scrolled": true
   },
   "outputs": [
    {
     "name": "stdout",
     "output_type": "stream",
     "text": [
      "Epoch 1/24\n",
      "281/281 [==============================] - 128s 431ms/step - loss: 0.4016 - accuracy: 0.8086 - val_loss: 0.2552 - val_accuracy: 0.8941\n",
      "Epoch 2/24\n",
      "281/281 [==============================] - 118s 410ms/step - loss: 0.2000 - accuracy: 0.9250 - val_loss: 0.1465 - val_accuracy: 0.9417\n",
      "Epoch 3/24\n",
      "281/281 [==============================] - 116s 403ms/step - loss: 0.1217 - accuracy: 0.9581 - val_loss: 0.0990 - val_accuracy: 0.9644\n",
      "Epoch 4/24\n",
      "281/281 [==============================] - 139s 483ms/step - loss: 0.0779 - accuracy: 0.9732 - val_loss: 0.0906 - val_accuracy: 0.9640\n",
      "Epoch 5/24\n",
      "281/281 [==============================] - 117s 405ms/step - loss: 0.0542 - accuracy: 0.9820 - val_loss: 0.0731 - val_accuracy: 0.9737\n",
      "Epoch 6/24\n",
      "281/281 [==============================] - 114s 395ms/step - loss: 0.0391 - accuracy: 0.9856 - val_loss: 0.0778 - val_accuracy: 0.9724\n",
      "Epoch 7/24\n",
      "281/281 [==============================] - 112s 389ms/step - loss: 0.0259 - accuracy: 0.9912 - val_loss: 0.0763 - val_accuracy: 0.9742\n",
      "Epoch 8/24\n",
      "281/281 [==============================] - 98s 347ms/step - loss: 0.0198 - accuracy: 0.9929 - val_loss: 0.0719 - val_accuracy: 0.9760\n",
      "Epoch 9/24\n",
      "281/281 [==============================] - 91s 321ms/step - loss: 0.0146 - accuracy: 0.9953 - val_loss: 0.0636 - val_accuracy: 0.9786\n",
      "Epoch 10/24\n",
      "281/281 [==============================] - 85s 299ms/step - loss: 0.0076 - accuracy: 0.9978 - val_loss: 0.0830 - val_accuracy: 0.9755\n",
      "Epoch 11/24\n",
      "281/281 [==============================] - 84s 297ms/step - loss: 0.0210 - accuracy: 0.9918 - val_loss: 0.0934 - val_accuracy: 0.9755\n",
      "Epoch 12/24\n",
      "281/281 [==============================] - 82s 288ms/step - loss: 0.0059 - accuracy: 0.9981 - val_loss: 0.0783 - val_accuracy: 0.9826\n",
      "Epoch 13/24\n",
      "281/281 [==============================] - 82s 289ms/step - loss: 0.0181 - accuracy: 0.9943 - val_loss: 0.0720 - val_accuracy: 0.9791\n",
      "Epoch 14/24\n",
      "281/281 [==============================] - 82s 290ms/step - loss: 0.0029 - accuracy: 0.9993 - val_loss: 0.0875 - val_accuracy: 0.9813\n",
      "Epoch 15/24\n",
      "281/281 [==============================] - 84s 298ms/step - loss: 0.0025 - accuracy: 0.9996 - val_loss: 0.0764 - val_accuracy: 0.9849\n",
      "Epoch 16/24\n",
      "281/281 [==============================] - 85s 301ms/step - loss: 0.0092 - accuracy: 0.9966 - val_loss: 0.1040 - val_accuracy: 0.9804\n",
      "Epoch 17/24\n",
      "281/281 [==============================] - 85s 299ms/step - loss: 0.0106 - accuracy: 0.9955 - val_loss: 0.0922 - val_accuracy: 0.9800\n",
      "Epoch 18/24\n",
      "281/281 [==============================] - 89s 313ms/step - loss: 0.0026 - accuracy: 0.9996 - val_loss: 0.1629 - val_accuracy: 0.9737\n",
      "Epoch 19/24\n",
      "281/281 [==============================] - 91s 322ms/step - loss: 0.0103 - accuracy: 0.9964 - val_loss: 0.1117 - val_accuracy: 0.9791\n",
      "Epoch 20/24\n",
      "281/281 [==============================] - 93s 328ms/step - loss: 0.0052 - accuracy: 0.9979 - val_loss: 0.0929 - val_accuracy: 0.9831\n",
      "Epoch 21/24\n",
      "281/281 [==============================] - 104s 370ms/step - loss: 0.0025 - accuracy: 0.9990 - val_loss: 0.0925 - val_accuracy: 0.9822\n",
      "Epoch 22/24\n",
      "281/281 [==============================] - 91s 322ms/step - loss: 5.5112e-04 - accuracy: 0.9999 - val_loss: 0.1017 - val_accuracy: 0.9849\n",
      "Epoch 23/24\n",
      "281/281 [==============================] - 99s 351ms/step - loss: 8.0651e-05 - accuracy: 1.0000 - val_loss: 0.1065 - val_accuracy: 0.9849\n",
      "Epoch 24/24\n",
      "281/281 [==============================] - 101s 357ms/step - loss: 4.7392e-05 - accuracy: 1.0000 - val_loss: 0.1088 - val_accuracy: 0.9840\n"
     ]
    }
   ],
   "source": [
    "epoc=24\n",
    "model.compile(optimizer='adam',loss = \"binary_crossentropy\", metrics = [\"accuracy\"])\n",
    "history = model.fit( train_ds, validation_data=val_ds, epochs=epoc)\n"
   ]
  },
  {
   "cell_type": "code",
   "execution_count": 8,
   "metadata": {},
   "outputs": [
    {
     "name": "stdout",
     "output_type": "stream",
     "text": [
      "Epoch 1/3\n",
      "281/281 [==============================] - 30s 104ms/step - loss: 0.0357 - accuracy: 0.9869 - val_loss: 0.0754 - val_accuracy: 0.9773\n",
      "Epoch 2/3\n",
      "281/281 [==============================] - 29s 102ms/step - loss: 0.0247 - accuracy: 0.9912 - val_loss: 0.0790 - val_accuracy: 0.9795\n",
      "Epoch 3/3\n",
      "281/281 [==============================] - 29s 103ms/step - loss: 0.0188 - accuracy: 0.9932 - val_loss: 0.0962 - val_accuracy: 0.9769\n"
     ]
    }
   ],
   "source": [
    "epochs=3\n",
    "history = model.fit( train_ds, validation_data=val_ds, epochs=3)"
   ]
  },
  {
   "cell_type": "code",
   "execution_count": 6,
   "metadata": {},
   "outputs": [
    {
     "data": {
      "image/png": "[encoded data removed]",
      "text/plain": [
       "<Figure size 576x576 with 2 Axes>"
      ]
     },
     "metadata": {
      "needs_background": "light"
     },
     "output_type": "display_data"
    }
   ],
   "source": [
    "\n",
    "acc = history.history['accuracy']\n",
    "val_acc = history.history['val_accuracy']\n",
    "\n",
    "loss = history.history['loss']\n",
    "val_loss = history.history['val_loss']\n",
    "\n",
    "epochs_range = range(epoc)\n",
    "\n",
    "plt.figure(figsize=(8, 8))\n",
    "plt.subplot(1, 2, 1)\n",
    "plt.plot(epochs_range, acc, label='Training Accuracy')\n",
    "plt.plot(epochs_range, val_acc, label='Validation Accuracy')\n",
    "plt.legend(loc='lower right')\n",
    "plt.title('Training and Validation Accuracy')\n",
    "\n",
    "plt.subplot(1, 2, 2)\n",
    "plt.plot(epochs_range, loss, label='Training Loss')\n",
    "plt.plot(epochs_range, val_loss, label='Validation Loss')\n",
    "plt.legend(loc='upper right')\n",
    "plt.title('Training and Validation Loss')\n",
    "plt.show()\n"
   ]
  },
  {
   "cell_type": "code",
   "execution_count": 7,
   "metadata": {},
   "outputs": [],
   "source": [
    "data_path = 'MAFDataset/t3.jpg'\n",
    "img = tf.keras.utils.load_img(\n",
    "    data_path, target_size=(img_height, img_width)\n",
    ")\n",
    "img_array = tf.keras.utils.img_to_array(img)\n",
    "img_array = tf.expand_dims(img_array, 0) # Create a batch\n",
    "\n",
    "img_array/=255\n",
    "\n",
    "\n",
    "#img_array"
   ]
  },
  {
   "cell_type": "code",
   "execution_count": 8,
   "metadata": {},
   "outputs": [
    {
     "name": "stdout",
     "output_type": "stream",
     "text": [
      "mask\n",
      "[3.9970538e-18]\n"
     ]
    }
   ],
   "source": [
    "predictions = model.predict(img_array)\n",
    "score = predictions[0]\n",
    "if(score>0.3):\n",
    "    print(\"nomask\")\n",
    "else:\n",
    "    print(\"mask\")\n",
    "\n",
    "print(score)"
   ]
  },
  {
   "cell_type": "code",
   "execution_count": 9,
   "metadata": {},
   "outputs": [],
   "source": [
    "model.save(\"my_modelE128.h5\", include_optimizer=False)"
   ]
  },
  {
   "cell_type": "code",
   "execution_count": 10,
   "metadata": {},
   "outputs": [
    {
     "name": "stdout",
     "output_type": "stream",
     "text": [
      "WARNING:tensorflow:No training configuration found in the save file, so the model was *not* compiled. Compile it manually.\n",
      "Model: \"sequential\"\n",
      "_________________________________________________________________\n",
      "Layer (type)                 Output Shape              Param #   \n",
      "=================================================================\n",
      "conv2d (Conv2D)              (None, 128, 128, 16)      448       \n",
      "_________________________________________________________________\n",
      "max_pooling2d (MaxPooling2D) (None, 64, 64, 16)        0         \n",
      "_________________________________________________________________\n",
      "conv2d_1 (Conv2D)            (None, 64, 64, 32)        4640      \n",
      "_________________________________________________________________\n",
      "max_pooling2d_1 (MaxPooling2 (None, 32, 32, 32)        0         \n",
      "_________________________________________________________________\n",
      "conv2d_2 (Conv2D)            (None, 32, 32, 64)        18496     \n",
      "_________________________________________________________________\n",
      "max_pooling2d_2 (MaxPooling2 (None, 16, 16, 64)        0         \n",
      "_________________________________________________________________\n",
      "flatten (Flatten)            (None, 16384)             0         \n",
      "_________________________________________________________________\n",
      "dense (Dense)                (None, 128)               2097280   \n",
      "_________________________________________________________________\n",
      "dense_1 (Dense)              (None, 1)                 129       \n",
      "=================================================================\n",
      "Total params: 2,120,993\n",
      "Trainable params: 2,120,993\n",
      "Non-trainable params: 0\n",
      "_________________________________________________________________\n"
     ]
    }
   ],
   "source": [
    "#import tensorflow as tf\n",
    "from tensorflow.keras import models,utils\n",
    "from tensorflow import expand_dims\n",
    "\n",
    "batch_size = 32\n",
    "img_height = 128\n",
    "img_width = 128\n",
    "\n",
    "new_model = models.load_model('my_modelE128.h5')\n",
    "\n",
    "# Check its architecture\n",
    "new_model.summary()\n"
   ]
  },
  {
   "cell_type": "code",
   "execution_count": 11,
   "metadata": {},
   "outputs": [
    {
     "name": "stdout",
     "output_type": "stream",
     "text": [
      "mask\n",
      "[1.8772311e-17]\n"
     ]
    }
   ],
   "source": [
    "data_path = 'MAFDataset/t4.jpg'\n",
    "img = utils.load_img(\n",
    "    data_path, target_size=(img_height, img_width)\n",
    ")\n",
    "img_array = utils.img_to_array(img)\n",
    "img_array = expand_dims(img_array, 0) # Create a batch\n",
    "img_array/=255\n",
    "\n",
    "predictions = new_model.predict(img_array)\n",
    "score = predictions[0]\n",
    "if(score>0.3):\n",
    "    print(\"nomask\")\n",
    "else:\n",
    "    print(\"mask\")\n",
    "\n",
    "print(score)\n",
    "\n"
   ]
  },
  {
   "cell_type": "code",
   "execution_count": 12,
   "metadata": {},
   "outputs": [],
   "source": [
    "from struct import unpack\n",
    "import os\n",
    "import shutil\n",
    "path = 'Test/'\n",
    "path2 = 'Testout128/'\n",
    "\n",
    "os.mkdir(path2)\n",
    "\n",
    "\n",
    "files = os.listdir(path)\n",
    "for file in files:\n",
    "   # try:\n",
    "        img = utils.load_img(\n",
    "        path+file, target_size=(img_height, img_width)\n",
    "        )\n",
    "        img_array = utils.img_to_array(img)\n",
    "        img_array = expand_dims(img_array, 0) # Create a batch\n",
    "        img_array/=255\n",
    "\n",
    "        predictions = new_model.predict(img_array)\n",
    "        score = predictions[0]\n",
    "        \n",
    "        file_xml = int(file.split(\"_\")[1])\n",
    "        #if (file_xml<3) and (score>0.3):\n",
    "        #    shutil.copyfile(path+file, path2+file)\n",
    "            \n",
    "        if (file_xml<3) == (score>0.3):\n",
    "            shutil.copyfile(path+file, path2+file)\n",
    "          \n",
    "        \n",
    "   # except:\n",
    "        #f.close()\n",
    "        #shutil.copyfile(path+file, path3+file) \n",
    "        #os.remove(path+file)"
   ]
  },
  {
   "cell_type": "code",
   "execution_count": null,
   "metadata": {},
   "outputs": [],
   "source": []
  }
 ],
 "metadata": {
  "kernelspec": {
   "display_name": "Python 3",
   "language": "python",
   "name": "python3"
  },
  "language_info": {
   "codemirror_mode": {
    "name": "ipython",
    "version": 3
   },
   "file_extension": ".py",
   "mimetype": "text/x-python",
   "name": "python",
   "nbconvert_exporter": "python",
   "pygments_lexer": "ipython3",
   "version": "3.8.3"
  }
 },
 "nbformat": 4,
 "nbformat_minor": 4
}
