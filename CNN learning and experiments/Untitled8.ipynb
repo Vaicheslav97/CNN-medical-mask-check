{
 "cells": [
  {
   "cell_type": "code",
   "execution_count": 8,
   "metadata": {},
   "outputs": [
    {
     "name": "stdout",
     "output_type": "stream",
     "text": [
      "Epoch 1/10"
     ]
    },
    {
     "name": "stderr",
     "output_type": "stream",
     "text": [
      "2021-10-28 00:34:12.469234: W tensorflow/stream_executor/platform/default/dso_loader.cc:64] Could not load dynamic library 'cudart64_110.dll'; dlerror: cudart64_110.dll not found\n",
      "2021-10-28 00:34:12.469234: I tensorflow/stream_executor/cuda/cudart_stub.cc:29] Ignore above cudart dlerror if you do not have a GPU set up on your machine.\n",
      "2021-10-28 00:34:15.030380: W tensorflow/stream_executor/platform/default/dso_loader.cc:64] Could not load dynamic library 'nvcuda.dll'; dlerror: nvcuda.dll not found\n",
      "2021-10-28 00:34:15.030380: W tensorflow/stream_executor/cuda/cuda_driver.cc:269] failed call to cuInit: UNKNOWN ERROR (303)\n",
      "2021-10-28 00:34:15.033380: I tensorflow/stream_executor/cuda/cuda_diagnostics.cc:169] retrieving CUDA diagnostic information for host: WIN-EH6AVUM1LO7\n",
      "2021-10-28 00:34:15.034380: I tensorflow/stream_executor/cuda/cuda_diagnostics.cc:176] hostname: WIN-EH6AVUM1LO7\n",
      "2021-10-28 00:34:15.034380: I tensorflow/core/platform/cpu_feature_guard.cc:142] This TensorFlow binary is optimized with oneAPI Deep Neural Network Library (oneDNN) to use the following CPU instructions in performance-critical operations:  AVX AVX2\n",
      "To enable them in other operations, rebuild TensorFlow with the appropriate compiler flags.\n",
      "2021-10-28 00:34:15.558410: I tensorflow/compiler/mlir/mlir_graph_optimization_pass.cc:185] None of the MLIR Optimization Passes are enabled (registered 2)\n",
      "2021-10-28 00:34:17.145501: W tensorflow/python/util/util.cc:348] Sets are not currently considered sequences, but this may change in the future, so consider avoiding using them.\n",
      "WARNING:tensorflow:No training configuration found in save file, so the model was *not* compiled. Compile it manually.\n"
     ]
    },
    {
     "name": "stdout",
     "output_type": "stream",
     "text": [
      "\n",
      "\n",
      "1/1 [==============================] - ETA: 0s - loss: 11.8757\n",
      "1/1 [==============================] - 1s 615ms/step - loss: 11.8757\n",
      "Epoch 2/10\n",
      "\n",
      "1/1 [==============================] - ETA: 0s - loss: 12.2117\n",
      "1/1 [==============================] - 0s 3ms/step - loss: 12.2117\n",
      "Epoch 3/10\n",
      "\n",
      "1/1 [==============================] - ETA: 0s - loss: 10.3810\n",
      "1/1 [==============================] - 0s 4ms/step - loss: 10.3810\n",
      "Epoch 4/10\n",
      "\n",
      "1/1 [==============================] - ETA: 0s - loss: 10.9926\n",
      "1/1 [==============================] - 0s 4ms/step - loss: 10.9926\n",
      "Epoch 5/10\n",
      "\n",
      "1/1 [==============================] - ETA: 0s - loss: 11.3181\n",
      "1/1 [==============================] - 0s 4ms/step - loss: 11.3181\n",
      "Epoch 6/10\n",
      "\n",
      "1/1 [==============================] - ETA: 0s - loss: 10.3117\n",
      "1/1 [==============================] - 0s 5ms/step - loss: 10.3117\n",
      "Epoch 7/10\n",
      "\n",
      "1/1 [==============================] - ETA: 0s - loss: 12.0689\n",
      "1/1 [==============================] - 0s 4ms/step - loss: 12.0689\n",
      "Epoch 8/10\n",
      "\n",
      "1/1 [==============================] - ETA: 0s - loss: 11.0715\n",
      "1/1 [==============================] - 0s 5ms/step - loss: 11.0715\n",
      "Epoch 9/10\n",
      "\n",
      "1/1 [==============================] - ETA: 0s - loss: 10.2199\n",
      "1/1 [==============================] - 0s 3ms/step - loss: 10.2199\n",
      "Epoch 10/10\n",
      "\n",
      "1/1 [==============================] - ETA: 0s - loss: 10.0889\n",
      "1/1 [==============================] - 0s 3ms/step - loss: 10.0889\n",
      "Model: \"sequential\"\n",
      "_________________________________________________________________\n",
      "Layer (type)                 Output Shape              Param #   \n",
      "=================================================================\n",
      "conv2d (Conv2D)              (None, 30, 30, 8)         224       \n",
      "_________________________________________________________________\n",
      "conv2d_1 (Conv2D)            (None, 28, 28, 8)         584       \n",
      "_________________________________________________________________\n",
      "permute (Permute)            (None, 8, 28, 28)         0         \n",
      "_________________________________________________________________\n",
      "max_pooling2d (MaxPooling2D) (None, 4, 14, 28)         0         \n",
      "_________________________________________________________________\n",
      "permute_1 (Permute)          (None, 14, 28, 4)         0         \n",
      "_________________________________________________________________\n",
      "dropout (Dropout)            (None, 14, 28, 4)         0         \n",
      "_________________________________________________________________\n",
      "conv2d_2 (Conv2D)            (None, 12, 26, 16)        592       \n",
      "_________________________________________________________________\n",
      "conv2d_3 (Conv2D)            (None, 10, 24, 16)        2320      \n",
      "_________________________________________________________________\n",
      "elu (ELU)                    (None, 10, 24, 16)        0         \n",
      "_________________________________________________________________\n",
      "max_pooling2d_1 (MaxPooling2 (None, 5, 12, 16)         0         \n",
      "_________________________________________________________________\n",
      "dropout_1 (Dropout)          (None, 5, 12, 16)         0         \n",
      "_________________________________________________________________\n",
      "flatten (Flatten)            (None, 960)               0         \n",
      "_________________________________________________________________\n",
      "dense (Dense)                (None, 64)                61504     \n",
      "_________________________________________________________________\n",
      "dropout_2 (Dropout)          (None, 64)                0         \n",
      "_________________________________________________________________\n",
      "dense_1 (Dense)              (None, 10)                650       \n",
      "=================================================================\n",
      "Total params: 65,874\n",
      "Trainable params: 65,874\n",
      "Non-trainable params: 0\n",
      "_________________________________________________________________\n"
     ]
    }
   ],
   "source": [
    "!python generate_test_models.py sequential \"sequential\"\n"
   ]
  },
  {
   "cell_type": "code",
   "execution_count": 10,
   "metadata": {},
   "outputs": [
    {
     "name": "stdout",
     "output_type": "stream",
     "text": [
      "loading sequential"
     ]
    },
    {
     "name": "stderr",
     "output_type": "stream",
     "text": [
      "2021-10-28 00:37:40.013105: W tensorflow/stream_executor/platform/default/dso_loader.cc:64] Could not load dynamic library 'cudart64_110.dll'; dlerror: cudart64_110.dll not found\n",
      "2021-10-28 00:37:40.013105: I tensorflow/stream_executor/cuda/cudart_stub.cc:29] Ignore above cudart dlerror if you do not have a GPU set up on your machine.\n",
      "2021-10-28 00:37:42.711259: W tensorflow/stream_executor/platform/default/dso_loader.cc:64] Could not load dynamic library 'nvcuda.dll'; dlerror: nvcuda.dll not found\n",
      "2021-10-28 00:37:42.712259: W tensorflow/stream_executor/cuda/cuda_driver.cc:269] failed call to cuInit: UNKNOWN ERROR (303)\n",
      "2021-10-28 00:37:42.715259: I tensorflow/stream_executor/cuda/cuda_diagnostics.cc:169] retrieving CUDA diagnostic information for host: WIN-EH6AVUM1LO7\n",
      "2021-10-28 00:37:42.715259: I tensorflow/stream_executor/cuda/cuda_diagnostics.cc:176] hostname: WIN-EH6AVUM1LO7\n",
      "2021-10-28 00:37:42.716259: I tensorflow/core/platform/cpu_feature_guard.cc:142] This TensorFlow binary is optimized with oneAPI Deep Neural Network Library (oneDNN) to use the following CPU instructions in performance-critical operations:  AVX AVX2\n",
      "To enable them in other operations, rebuild TensorFlow with the appropriate compiler flags.\n",
      "WARNING:tensorflow:No training configuration found in save file, so the model was *not* compiled. Compile it manually.\n",
      "2021-10-28 00:37:45.032392: I tensorflow/compiler/mlir/mlir_graph_optimization_pass.cc:185] None of the MLIR Optimization Passes are enabled (registered 2)\n"
     ]
    },
    {
     "name": "stdout",
     "output_type": "stream",
     "text": [
      "\n",
      "Forward pass took 0.658038 s.\n",
      "Forward pass took 0.043002 s.\n",
      "Forward pass took 0.045003 s.\n",
      "Starting performance measurements.\n",
      "Forward pass took 0.049003 s.\n",
      "Forward pass took 0.045002 s.\n",
      "Forward pass took 0.044003 s.\n",
      "Forward pass took 0.047002 s.\n",
      "Forward pass took 0.043003 s.\n",
      "Forward pass took 0.04560260000000001 s on average.\n",
      "Converting model architecture.\n",
      "Converting model weights.\n",
      "Done converting model weights.\n",
      "Calculating model hash.\n",
      "Model conversion finished.\n",
      "writing sequential2\n"
     ]
    }
   ],
   "source": [
    "!python convert_model.py sequential \"sequential2\""
   ]
  },
  {
   "cell_type": "code",
   "execution_count": 1,
   "metadata": {},
   "outputs": [
    {
     "name": "stdout",
     "output_type": "stream",
     "text": [
      "Epoch 1/10\n",
      "1/1 [==============================] - 2s 2s/step - loss: 1.6283\n",
      "Epoch 2/10\n",
      "1/1 [==============================] - 0s 0s/step - loss: 1.6046\n",
      "Epoch 3/10\n",
      "1/1 [==============================] - 0s 10ms/step - loss: 1.5872\n",
      "Epoch 4/10\n",
      "1/1 [==============================] - 0s 0s/step - loss: 1.5710\n",
      "Epoch 5/10\n",
      "1/1 [==============================] - 0s 10ms/step - loss: 1.5549\n",
      "Epoch 6/10\n",
      "1/1 [==============================] - 0s 10ms/step - loss: 1.5386\n",
      "Epoch 7/10\n",
      "1/1 [==============================] - 0s 0s/step - loss: 1.5220\n",
      "Epoch 8/10\n",
      "1/1 [==============================] - 0s 10ms/step - loss: 1.5050\n",
      "Epoch 9/10\n",
      "1/1 [==============================] - 0s 0s/step - loss: 1.4876\n",
      "Epoch 10/10\n",
      "1/1 [==============================] - 0s 14ms/step - loss: 1.4700\n"
     ]
    }
   ],
   "source": [
    "import numpy as np\n",
    "from tensorflow.keras.layers import Input, Dense\n",
    "from tensorflow.keras.models import Model\n",
    "\n",
    "inputs = Input(shape=(4,))\n",
    "x = Dense(5, activation='relu')(inputs)\n",
    "predictions = Dense(3, activation='softmax')(x)\n",
    "model = Model(inputs=inputs, outputs=predictions)\n",
    "model.compile(loss='categorical_crossentropy', optimizer='nadam')\n",
    "\n",
    "model.fit(\n",
    "    np.asarray([[1, 2, 3, 4], [2, 3, 4, 5]]),\n",
    "    np.asarray([[1, 0, 0], [0, 0, 1]]), epochs=10)\n",
    "\n",
    "model.save('keras_model.h5', include_optimizer=False)"
   ]
  },
  {
   "cell_type": "code",
   "execution_count": 7,
   "metadata": {},
   "outputs": [
    {
     "name": "stdout",
     "output_type": "stream",
     "text": [
      "loading my_model.h5\n",
      "Forward pass took 5.307304 s.\n",
      "Forward pass took 0.058003 s.\n",
      "Forward pass took 0.061004 s.\n",
      "Starting performance measurements.\n",
      "Forward pass took 0.057003 s.\n",
      "Forward pass took 0.053003 s.\n",
      "Forward pass took 0.070004 s.\n",
      "Forward pass took 0.052003 s.\n",
      "Forward pass took 0.053003 s.\n",
      "Forward pass took 0.0570032 s on average.\n",
      "Converting model architecture.\n",
      "Converting model weights.\n",
      "Done converting model weights.\n",
      "Calculating model hash.\n",
      "Model conversion finished.\n",
      "writing my_model.json\n"
     ]
    },
    {
     "name": "stderr",
     "output_type": "stream",
     "text": [
      "2021-10-29 01:40:11.752339: W tensorflow/stream_executor/platform/default/dso_loader.cc:64] Could not load dynamic library 'cudart64_110.dll'; dlerror: cudart64_110.dll not found\n",
      "2021-10-29 01:40:11.753339: I tensorflow/stream_executor/cuda/cudart_stub.cc:29] Ignore above cudart dlerror if you do not have a GPU set up on your machine.\n",
      "2021-10-29 01:40:31.137448: W tensorflow/stream_executor/platform/default/dso_loader.cc:64] Could not load dynamic library 'nvcuda.dll'; dlerror: nvcuda.dll not found\n",
      "2021-10-29 01:40:31.137448: W tensorflow/stream_executor/cuda/cuda_driver.cc:269] failed call to cuInit: UNKNOWN ERROR (303)\n",
      "2021-10-29 01:40:31.224452: I tensorflow/stream_executor/cuda/cuda_diagnostics.cc:169] retrieving CUDA diagnostic information for host: WIN-EH6AVUM1LO7\n",
      "2021-10-29 01:40:31.224452: I tensorflow/stream_executor/cuda/cuda_diagnostics.cc:176] hostname: WIN-EH6AVUM1LO7\n",
      "2021-10-29 01:40:31.225453: I tensorflow/core/platform/cpu_feature_guard.cc:142] This TensorFlow binary is optimized with oneAPI Deep Neural Network Library (oneDNN) to use the following CPU instructions in performance-critical operations:  AVX AVX2\n",
      "To enable them in other operations, rebuild TensorFlow with the appropriate compiler flags.\n",
      "WARNING:tensorflow:No training configuration found in the save file, so the model was *not* compiled. Compile it manually.\n",
      "2021-10-29 01:40:35.846717: I tensorflow/compiler/mlir/mlir_graph_optimization_pass.cc:185] None of the MLIR Optimization Passes are enabled (registered 2)\n"
     ]
    }
   ],
   "source": [
    "!python convert_model.py my_model.h5 my_model.json"
   ]
  },
  {
   "cell_type": "code",
   "execution_count": null,
   "metadata": {},
   "outputs": [],
   "source": []
  }
 ],
 "metadata": {
  "kernelspec": {
   "display_name": "Python 3",
   "language": "python",
   "name": "python3"
  },
  "language_info": {
   "codemirror_mode": {
    "name": "ipython",
    "version": 3
   },
   "file_extension": ".py",
   "mimetype": "text/x-python",
   "name": "python",
   "nbconvert_exporter": "python",
   "pygments_lexer": "ipython3",
   "version": "3.7.3"
  }
 },
 "nbformat": 4,
 "nbformat_minor": 4
}
